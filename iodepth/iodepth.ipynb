{
 "cells": [
  {
   "cell_type": "code",
   "execution_count": 1,
   "id": "0af0bf61",
   "metadata": {},
   "outputs": [],
   "source": [
    "import json\n",
    "import pandas as pd\n",
    "import matplotlib.pyplot as plt\n",
    "import numpy as np\n"
   ]
  },
  {
   "cell_type": "code",
   "execution_count": 2,
   "id": "b24951bb",
   "metadata": {},
   "outputs": [],
   "source": [
    "IODEPTH_RESULT = './iodepth_results.json'\n",
    "result_jsons = {}\n",
    "with open(IODEPTH_RESULT, 'r') as f:\n",
    "    result_jsons = json.load(f)\n"
   ]
  },
  {
   "cell_type": "code",
   "execution_count": 3,
   "id": "cd49147e",
   "metadata": {},
   "outputs": [
    {
     "name": "stdout",
     "output_type": "stream",
     "text": [
      "Architecture:            x86_64\r\n",
      "  CPU op-mode(s):        32-bit, 64-bit\r\n",
      "  Address sizes:         39 bits physical, 48 bits virtual\r\n",
      "  Byte Order:            Little Endian\r\n",
      "CPU(s):                  4\r\n",
      "  On-line CPU(s) list:   0-3\r\n",
      "Vendor ID:               GenuineIntel\r\n",
      "  Model name:            Intel(R) Celeron(R) N5105 @ 2.00GHz\r\n",
      "    CPU family:          6\r\n",
      "    Model:               156\r\n",
      "    Thread(s) per core:  1\r\n",
      "    Core(s) per socket:  4\r\n",
      "    Socket(s):           1\r\n",
      "    Stepping:            0\r\n",
      "    CPU max MHz:         2900.0000\r\n",
      "    CPU min MHz:         800.0000\r\n",
      "    BogoMIPS:            3993.60\r\n",
      "    Flags:               fpu vme de pse tsc msr pae mce cx8 apic sep mtrr pge mc\r\n",
      "                         a cmov pat pse36 clflush dts acpi mmx fxsr sse sse2 ss \r\n",
      "                         ht tm pbe syscall nx rdtscp lm constant_tsc art arch_pe\r\n",
      "                         rfmon pebs bts rep_good nopl xtopology nonstop_tsc cpui\r\n",
      "                         d aperfmperf tsc_known_freq pni pclmulqdq dtes64 monito\r\n",
      "                         r ds_cpl vmx est tm2 ssse3 sdbg cx16 xtpr pdcm sse4_1 s\r\n",
      "                         se4_2 x2apic movbe popcnt tsc_deadline_timer aes xsave \r\n",
      "                         rdrand lahf_lm 3dnowprefetch cpuid_fault epb cat_l2 cdp\r\n",
      "                         _l2 ssbd ibrs ibpb stibp ibrs_enhanced tpr_shadow vnmi \r\n",
      "                         flexpriority ept vpid ept_ad fsgsbase tsc_adjust smep e\r\n",
      "                         rms rdt_a rdseed smap clflushopt clwb intel_pt sha_ni x\r\n",
      "                         saveopt xsavec xgetbv1 xsaves split_lock_detect dtherm \r\n",
      "                         ida arat pln pts hwp hwp_notify hwp_act_window hwp_epp \r\n",
      "                         hwp_pkg_req umip waitpkg gfni rdpid movdiri movdir64b m\r\n",
      "                         d_clear flush_l1d arch_capabilities\r\n",
      "Virtualization features: \r\n",
      "  Virtualization:        VT-x\r\n",
      "Caches (sum of all):     \r\n",
      "  L1d:                   128 KiB (4 instances)\r\n",
      "  L1i:                   128 KiB (4 instances)\r\n",
      "  L2:                    1.5 MiB (1 instance)\r\n",
      "  L3:                    4 MiB (1 instance)\r\n",
      "NUMA:                    \r\n",
      "  NUMA node(s):          1\r\n",
      "  NUMA node0 CPU(s):     0-3\r\n",
      "Vulnerabilities:         \r\n",
      "  Gather data sampling:  Not affected\r\n",
      "  Itlb multihit:         Not affected\r\n",
      "  L1tf:                  Not affected\r\n",
      "  Mds:                   Not affected\r\n",
      "  Meltdown:              Not affected\r\n",
      "  Mmio stale data:       Mitigation; Clear CPU buffers; SMT disabled\r\n",
      "  Retbleed:              Not affected\r\n",
      "  Spec rstack overflow:  Not affected\r\n",
      "  Spec store bypass:     Mitigation; Speculative Store Bypass disabled via prctl\r\n",
      "  Spectre v1:            Mitigation; usercopy/swapgs barriers and __user pointer\r\n",
      "                          sanitization\r\n",
      "  Spectre v2:            Mitigation; Enhanced IBRS, IBPB conditional, RSB fillin\r\n",
      "                         g, PBRSB-eIBRS Not affected\r\n",
      "  Srbds:                 Vulnerable: No microcode\r\n",
      "  Tsx async abort:       Not affected\r\n"
     ]
    }
   ],
   "source": [
    "!lscpu"
   ]
  },
  {
   "cell_type": "code",
   "execution_count": 4,
   "id": "4e166bc0",
   "metadata": {},
   "outputs": [],
   "source": [
    "df = pd.json_normalize(result_jsons)\n",
    "cores1 = df[df['experiment_name'] == \"SingleCPU\"].copy()\n",
    "cores2 = df[df['experiment_name'] == 'TwoCPU'].copy()\n"
   ]
  },
  {
   "cell_type": "code",
   "execution_count": 5,
   "id": "f362f1d5",
   "metadata": {},
   "outputs": [],
   "source": [
    "def read_iops(jobs):\n",
    "     return jobs[0]['read']['iops']\n",
    "\n",
    "def write_iops(jobs):\n",
    "    # We have group reporting turned on. So read of the first job\n",
    "     return jobs[0]['write']['iops']\n",
    "\n",
    "def median_latency(jobs):\n",
    "    # Some metrics are easier to etract via a json, fow now we'll brute force it\n",
    "    # jobs_pd = pd.json_normalize(jobs, max_level=0)\n",
    "    median_lat = jobs[0]['read']['lat_ns']['percentile']['50.000000']\n",
    "    return median_lat\n",
    "\n",
    "def test_transform(x):\n",
    "    return 10\n",
    "\n",
    "def summarize_df(df):\n",
    "    df['readiops'] = df['jobs'].map(read_iops)\n",
    "    df['writeiops'] = df['jobs'].map(write_iops)\n",
    "    df['median_lat'] = df['jobs'].map(median_latency)\n",
    "    df['iodepth'] = df['global options.iodepth'].astype(int)\n",
    "\n",
    "summarize_df(cores1)\n",
    "summarize_df(cores2)"
   ]
  },
  {
   "cell_type": "code",
   "execution_count": 6,
   "id": "1819397a",
   "metadata": {},
   "outputs": [
    {
     "data": {
      "image/png": "[encoded data removed]",
      "text/plain": [
       "<Figure size 432x288 with 1 Axes>"
      ]
     },
     "metadata": {
      "needs_background": "light"
     },
     "output_type": "display_data"
    },
    {
     "data": {
      "image/png": "[encoded data removed]",
      "text/plain": [
       "<Figure size 432x288 with 1 Axes>"
      ]
     },
     "metadata": {
      "needs_background": "light"
     },
     "output_type": "display_data"
    }
   ],
   "source": [
    "cores1.pivot(index=\"iodepth\", columns=\"test_name\", values=\"readiops\").plot(kind=\"bar\")\n",
    "plt.ylabel(\"IOPS\")\n",
    "plt.title(\"Single Core\")\n",
    "plt.show()\n",
    "\n",
    "\n",
    "cores2.pivot(index=\"iodepth\", columns=\"test_name\", values=\"readiops\").plot(kind=\"bar\")\n",
    "plt.ylabel(\"IOPS\")\n",
    "plt.title(\"Two Cores\")\n",
    "plt.show()"
   ]
  },
  {
   "cell_type": "code",
   "execution_count": 16,
   "id": "688864a3",
   "metadata": {},
   "outputs": [
    {
     "data": {
      "text/plain": [
       "<AxesSubplot:xlabel='readiops'>"
      ]
     },
     "execution_count": 16,
     "metadata": {},
     "output_type": "execute_result"
    },
    {
     "data": {
      "image/png": "[encoded data removed]",
      "text/plain": [
       "<Figure size 432x288 with 1 Axes>"
      ]
     },
     "metadata": {
      "needs_background": "light"
     },
     "output_type": "display_data"
    }
   ],
   "source": [
    "cores1.pivot(index=\"readiops\", columns=\"test_name\", values=\"median_lat\").plot(marker='o')\n"
   ]
  },
  {
   "cell_type": "code",
   "execution_count": null,
   "id": "6f6d4af1",
   "metadata": {},
   "outputs": [],
   "source": []
  }
 ],
 "metadata": {
  "kernelspec": {
   "display_name": "Python 3 (ipykernel)",
   "language": "python",
   "name": "python3"
  },
  "language_info": {
   "codemirror_mode": {
    "name": "ipython",
    "version": 3
   },
   "file_extension": ".py",
   "mimetype": "text/x-python",
   "name": "python",
   "nbconvert_exporter": "python",
   "pygments_lexer": "ipython3",
   "version": "3.10.12"
  }
 },
 "nbformat": 4,
 "nbformat_minor": 5
}
